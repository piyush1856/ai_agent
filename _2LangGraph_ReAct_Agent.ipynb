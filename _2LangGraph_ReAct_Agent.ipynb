{
  "cells": [
    {
      "cell_type": "markdown",
      "metadata": {
        "id": "view-in-github",
        "colab_type": "text"
      },
      "source": [
        "<a href=\"https://colab.research.google.com/github/piyush1856/ai_agent/blob/main/_2LangGraph_ReAct_Agent.ipynb\" target=\"_parent\"><img src=\"https://colab.research.google.com/assets/colab-badge.svg\" alt=\"Open In Colab\"/></a>"
      ]
    },
    {
      "cell_type": "markdown",
      "id": "21fa2e13-567d-4509-9023-c99fb230f31f",
      "metadata": {
        "id": "21fa2e13-567d-4509-9023-c99fb230f31f"
      },
      "source": [
        "# Lesson 2 : LangGraph Components"
      ]
    },
    {
      "cell_type": "code",
      "execution_count": 12,
      "id": "f5762271-8736-4e94-9444-8c92bd0e8074",
      "metadata": {
        "height": 47,
        "id": "f5762271-8736-4e94-9444-8c92bd0e8074"
      },
      "outputs": [],
      "source": [
        "from google.colab import userdata\n",
        "import os"
      ]
    },
    {
      "cell_type": "code",
      "execution_count": 6,
      "id": "d0168aee-bce9-4d60-b827-f86a88187e31",
      "metadata": {
        "height": 115,
        "id": "d0168aee-bce9-4d60-b827-f86a88187e31"
      },
      "outputs": [],
      "source": [
        "from langgraph.graph import StateGraph, END\n",
        "from typing import TypedDict, Annotated\n",
        "import operator\n",
        "from langchain_core.messages import AnyMessage, SystemMessage, HumanMessage, ToolMessage\n",
        "from langchain_openai import ChatOpenAI\n",
        "from langchain_community.tools.tavily_search import TavilySearchResults"
      ]
    },
    {
      "cell_type": "code",
      "source": [
        "tavila_api_key = userdata.get('TAVILY_API_KEY')\n",
        "open_ai_key = userdata.get('OPENAI_API_KEY')\n",
        "os.environ[\"TAVILY_API_KEY\"] = tavila_api_key\n",
        "os.environ[\"OPENAI_API_KEY\"] = open_ai_key"
      ],
      "metadata": {
        "id": "lsoIHaqM9Tq2"
      },
      "id": "lsoIHaqM9Tq2",
      "execution_count": 15,
      "outputs": []
    },
    {
      "cell_type": "code",
      "execution_count": 16,
      "id": "2589c5b6-6cc2-4594-9a17-dccdcf676054",
      "metadata": {
        "height": 64,
        "colab": {
          "base_uri": "https://localhost:8080/"
        },
        "id": "2589c5b6-6cc2-4594-9a17-dccdcf676054",
        "outputId": "1e5a3958-c2bd-41ac-d1ad-1b87c8e68bfb"
      },
      "outputs": [
        {
          "output_type": "stream",
          "name": "stdout",
          "text": [
            "<class 'langchain_community.tools.tavily_search.tool.TavilySearchResults'>\n",
            "tavily_search_results_json\n"
          ]
        }
      ],
      "source": [
        "tool = TavilySearchResults(max_results=4) #increased number of results\n",
        "print(type(tool))\n",
        "print(tool.name)"
      ]
    },
    {
      "cell_type": "code",
      "execution_count": 18,
      "id": "a2ba84ec-c172-4de7-ac55-e3158a531b23",
      "metadata": {
        "height": 47,
        "id": "a2ba84ec-c172-4de7-ac55-e3158a531b23"
      },
      "outputs": [],
      "source": [
        "class AgentState(TypedDict):\n",
        "    messages: Annotated[list[AnyMessage], operator.add]"
      ]
    },
    {
      "cell_type": "markdown",
      "id": "74c7ba73-e603-453b-b06f-5db92c567b19",
      "metadata": {
        "id": "74c7ba73-e603-453b-b06f-5db92c567b19"
      },
      "source": [
        "> Note: in `take_action` below, some logic was added to cover the case that the LLM returned a non-existent tool name. Even with function calling, LLMs can still occasionally hallucinate. Note that all that is done is instructing the LLM to try again! An advantage of an agentic organization."
      ]
    },
    {
      "cell_type": "code",
      "execution_count": 19,
      "id": "876d5092-b8ef-4e38-b4d7-0e80c609bf7a",
      "metadata": {
        "height": 727,
        "id": "876d5092-b8ef-4e38-b4d7-0e80c609bf7a"
      },
      "outputs": [],
      "source": [
        "class Agent:\n",
        "\n",
        "    def __init__(self, model, tools, system=\"\"):\n",
        "        self.system = system\n",
        "        graph = StateGraph(AgentState)\n",
        "        graph.add_node(\"llm\", self.call_openai)\n",
        "        graph.add_node(\"action\", self.take_action)\n",
        "        graph.add_conditional_edges(\n",
        "            \"llm\",\n",
        "            self.exists_action,\n",
        "            {True: \"action\", False: END}\n",
        "        )\n",
        "        graph.add_edge(\"action\", \"llm\")\n",
        "        graph.set_entry_point(\"llm\")\n",
        "        self.graph = graph.compile()\n",
        "        self.tools = {t.name: t for t in tools}\n",
        "        self.model = model.bind_tools(tools)\n",
        "\n",
        "    def exists_action(self, state: AgentState):\n",
        "        result = state['messages'][-1]\n",
        "        return len(result.tool_calls) > 0\n",
        "\n",
        "    def call_openai(self, state: AgentState):\n",
        "        messages = state['messages']\n",
        "        if self.system:\n",
        "            messages = [SystemMessage(content=self.system)] + messages\n",
        "        message = self.model.invoke(messages)\n",
        "        return {'messages': [message]}\n",
        "\n",
        "    def take_action(self, state: AgentState):\n",
        "        tool_calls = state['messages'][-1].tool_calls\n",
        "        results = []\n",
        "        for t in tool_calls:\n",
        "            print(f\"Calling: {t}\")\n",
        "            if not t['name'] in self.tools:      # check for bad tool name from LLM\n",
        "                print(\"\\n ....bad tool name....\")\n",
        "                result = \"bad tool name, retry\"  # instruct LLM to retry if bad\n",
        "            else:\n",
        "                result = self.tools[t['name']].invoke(t['args'])\n",
        "            results.append(ToolMessage(tool_call_id=t['id'], name=t['name'], content=str(result)))\n",
        "        print(\"Back to the model!\")\n",
        "        return {'messages': results}"
      ]
    },
    {
      "cell_type": "code",
      "execution_count": 20,
      "id": "10084a02-2928-4945-9f7c-ad3f5b33caf7",
      "metadata": {
        "height": 149,
        "id": "10084a02-2928-4945-9f7c-ad3f5b33caf7"
      },
      "outputs": [],
      "source": [
        "prompt = \"\"\"You are a smart research assistant. Use the search engine to look up information. \\\n",
        "You are allowed to make multiple calls (either together or in sequence). \\\n",
        "Only look up information when you are sure of what you want. \\\n",
        "If you need to look up some information before asking a follow up question, you are allowed to do that!\n",
        "\"\"\"\n",
        "\n",
        "model = ChatOpenAI(model=\"gpt-3.5-turbo\")  #reduce inference cost\n",
        "abot = Agent(model, [tool], system=prompt)"
      ]
    },
    {
      "cell_type": "code",
      "execution_count": 25,
      "id": "a3d6f5f4-2392-41b9-ab96-7919840baa3e",
      "metadata": {
        "height": 64,
        "colab": {
          "base_uri": "https://localhost:8080/",
          "height": 382
        },
        "id": "a3d6f5f4-2392-41b9-ab96-7919840baa3e",
        "outputId": "37d70c9e-f74a-4808-fa7c-c96a8d5cbe69"
      },
      "outputs": [
        {
          "output_type": "execute_result",
          "data": {
            "image/png": "[encoded data removed]",
            "text/plain": [
              "<IPython.core.display.Image object>"
            ]
          },
          "metadata": {},
          "execution_count": 25
        }
      ],
      "source": [
        "from IPython.display import Image\n",
        "\n",
        "Image(abot.graph.get_graph().draw_png())"
      ]
    },
    {
      "cell_type": "code",
      "execution_count": 26,
      "id": "83588e70-254f-4f83-a510-c8ae81e729b0",
      "metadata": {
        "height": 47,
        "colab": {
          "base_uri": "https://localhost:8080/"
        },
        "id": "83588e70-254f-4f83-a510-c8ae81e729b0",
        "outputId": "58df54c9-9d57-4de1-ae05-6cfe5194921a"
      },
      "outputs": [
        {
          "output_type": "stream",
          "name": "stdout",
          "text": [
            "Calling: {'name': 'tavily_search_results_json', 'args': {'query': 'weather in San Francisco'}, 'id': 'call_nTHIEL2nBF04iBb48BA3noxX', 'type': 'tool_call'}\n",
            "Back to the model!\n"
          ]
        }
      ],
      "source": [
        "messages = [HumanMessage(content=\"What is the weather in sf?\")]\n",
        "result = abot.graph.invoke({\"messages\": messages})"
      ]
    },
    {
      "cell_type": "code",
      "execution_count": 27,
      "id": "89a06a8c-fcd4-4ca6-98f0-36c5809813e6",
      "metadata": {
        "height": 30,
        "scrolled": true,
        "colab": {
          "base_uri": "https://localhost:8080/"
        },
        "id": "89a06a8c-fcd4-4ca6-98f0-36c5809813e6",
        "outputId": "b40e970d-3a84-4c75-c508-d7a5184f11e4"
      },
      "outputs": [
        {
          "output_type": "execute_result",
          "data": {
            "text/plain": [
              "{'messages': [HumanMessage(content='What is the weather in sf?', additional_kwargs={}, response_metadata={}),\n",
              "  AIMessage(content='', additional_kwargs={'tool_calls': [{'id': 'call_nTHIEL2nBF04iBb48BA3noxX', 'function': {'arguments': '{\"query\":\"weather in San Francisco\"}', 'name': 'tavily_search_results_json'}, 'type': 'function'}], 'refusal': None}, response_metadata={'token_usage': {'completion_tokens': 21, 'prompt_tokens': 153, 'total_tokens': 174, 'completion_tokens_details': {'accepted_prediction_tokens': 0, 'audio_tokens': 0, 'reasoning_tokens': 0, 'rejected_prediction_tokens': 0}, 'prompt_tokens_details': {'audio_tokens': 0, 'cached_tokens': 0}}, 'model_name': 'gpt-3.5-turbo-0125', 'system_fingerprint': None, 'id': 'chatcmpl-C6wFwCOQi7gHAnonsNeDCUR0HNWh4', 'service_tier': 'default', 'finish_reason': 'tool_calls', 'logprobs': None}, id='run--5b8282ec-5ea3-4ccd-bfb2-75e5d9dffdd7-0', tool_calls=[{'name': 'tavily_search_results_json', 'args': {'query': 'weather in San Francisco'}, 'id': 'call_nTHIEL2nBF04iBb48BA3noxX', 'type': 'tool_call'}], usage_metadata={'input_tokens': 153, 'output_tokens': 21, 'total_tokens': 174, 'input_token_details': {'audio': 0, 'cache_read': 0}, 'output_token_details': {'audio': 0, 'reasoning': 0}}),\n",
              "  ToolMessage(content='[{\\'title\\': \\'Weather San Francisco in August 2025: Temperature & Climate\\', \\'url\\': \\'https://en.climate-data.org/north-america/united-states-of-america/california/san-francisco-385/t/august-8/\\', \\'content\\': \\'| Max. Temperature °C (°F) | 14 °C  (57.3) °F | 14.9 °C  (58.7) °F | 16.2 °C  (61.2) °F | 17.4 °C  (63.3) °F | 19.2 °C  (66.5) °F | 21.5 °C  (70.8) °F | 21.8 °C  (71.2) °F | 22.2 °C  (71.9) °F | 23.1 °C  (73.6) °F | 21.3 °C  (70.3) °F | 17.1 °C  (62.8) °F | 13.9 °C  (57.1) °F |\\\\n| Precipitation / Rainfall mm (in) | 113  (4) | 118  (4) | 83  (3) | 40  (1) | 21  (0) | 6  (0) | 2  (0) | 2  (0) | 3  (0) | 25  (0) | 57  (2) | 111  (4) | [...] 21.3\\\\n\\\\n(70.3)\\\\n\\\\n25\\\\n\\\\n(1)\\\\n\\\\n12.4\\\\n\\\\n(54.4)\\\\n\\\\n9\\\\n\\\\n(48.2)\\\\n\\\\n17.1\\\\n\\\\n(62.8)\\\\n\\\\n57\\\\n\\\\n(2.2)\\\\n\\\\n9.9\\\\n\\\\n(49.8)\\\\n\\\\n6.8\\\\n\\\\n(44.2)\\\\n\\\\n13.9\\\\n\\\\n(57.1)\\\\n\\\\n111\\\\n\\\\n(4.4) [...] | Min. Temperature °C (°F) | 6.2 °C  (43.2) °F | 7.1 °C  (44.8) °F | 8.2 °C  (46.8) °F | 8.9 °C  (48.1) °F | 10.3 °C  (50.6) °F | 11.8 °C  (53.3) °F | 12.7 °C  (54.9) °F | 13.3 °C  (55.9) °F | 13.1 °C  (55.6) °F | 11.9 °C  (53.4) °F | 9 °C  (48.2) °F | 6.8 °C  (44.2) °F |\\', \\'score\\': 0.8703443}, {\\'title\\': \\'San Francisco weather in August 2025\\', \\'url\\': \\'https://www.weather25.com/north-america/usa/california/san-francisco?page=month&month=August\\', \\'content\\': \\'| 24 Image 51: Sunny 66°/57° | 25 Image 52: Sunny 68°/57° | 26 Image 53: Sunny 64°/57° | 27 Image 54: Partly cloudy 73°/57° | 28 Image 55: Sunny 73°/59° | 29 Image 56: Sunny 71°/59° | 30 Image 57: Sunny 73°/59° |\\\\n| 31 Image 58: Sunny 71°/59° |  |  |  |  |  |  | [...] | Sun | Mon | Tue | Wed | Thu | Fri | Sat |\\\\n| --- | --- | --- | --- | --- | --- | --- |\\\\n|  |  |  |  |  | 1 Image 28: Partly cloudy 66°/55° | 2 Image 29: Partly cloudy 68°/55° |\\\\n| 3 Image 30: Sunny 69°/57° | 4 Image 31: Partly cloudy 66°/55° | 5 Image 32: Mist 66°/55° | 6 Image 33: Sunny 69°/55° | 7 Image 34: Partly cloudy 68°/55° | 8 Image 35: Sunny 68°/55° | 9 Image 36: Partly cloudy 68°/55° | [...] The average weather in San Francisco in August\\\\n----------------------------------------------\\\\n\\\\nThe temperatures in San Francisco in August are comfortable with low of 57°F and and high up to 77°F.\\\\n\\\\nThere is little to no rain in San Francisco during August, so it’s a lot easier to explore the city. Just remember to dress in warm layers, as it can still get pretty chilly.\\\\n\\\\nOur weather forecast can give you a great sense of what weather to expect in San Francisco in August 2025.\\', \\'score\\': 0.8455478}, {\\'title\\': \\'August 2025 Weather History in San Francisco California, United ...\\', \\'url\\': \\'https://weatherspark.com/h/m/557/2025/8/Historical-Weather-in-August-2025-in-San-Francisco-California-United-States\\', \\'content\\': \\'Cloudy  1,800 ft   |  |  | | --- | --- | |  | Mostly Clear 600 ft |   |  |  | | --- | --- | | Vis. | 10.00 mi or greater | | Alt. | 29.96 inHg |  Raw: KSFO 141556Z 34004KT 10SM FEW006 SCT018 17/13 A2996 RMK AO2 SLP145 T01720128  This report shows the past weather for San Francisco, providing a weather history for August 2025. It features all historical weather data series we have available, including the San Francisco temperature history for August 2025. You can drill down from year to month [...] PM | WNW | 10:57 PM | ENE | 5:23 AM | S | 229,476 mi | | 15 |  | 50% | - | | 1:42 PM | WNW | 11:34 PM | ENE | 6:15 AM | S | 229,581 mi | | 16 |  | 46% | - | | 2:57 PM | WNW | - | | 7:11 AM | S | 230,052 mi | | 17 |  | 34% | 12:19 AM | NE | 4:08 PM | NW | - | | 8:11 AM | S | 230,851 mi | | 18 |  | 23% | 1:13 AM | NE | 5:12 PM | NW | - | | 9:12 AM | S | 231,964 mi | | 19 |  | 14% | 2:17 AM | NE | 6:05 PM | NW | - | | 10:13 AM | S | 233,395 mi | | 20 |  | 7% | 3:26 AM | ENE | 6:48 PM | WNW | - | | [...] 11:11 AM | S | 235,146 mi | | 21 |  | 2% | 4:38 AM | ENE | 7:23 PM | WNW | - | | 12:05 PM | S | 237,199 mi | | 22 |  | 0% | 5:47 AM | ENE | 7:51 PM | WNW | - | | 12:53 PM | S | 239,503 mi | | 23 |  | 0% | 6:54 AM | ENE | 8:16 PM | W | - | | 1:38 PM | S | 241,965 mi | | 24 |  | 3% | 7:57 AM | E | 8:39 PM | W | - | | 2:20 PM | S | 244,451 mi | | 25 |  | 7% | 8:59 AM | E | 9:00 PM | W | - | | 3:01 PM | S | 246,794 mi | | 26 |  | 13% | 9:59 AM | E | 9:22 PM | WSW | - | | 3:41 PM | S | 248,817 mi |\\', \\'score\\': 0.8194462}, {\\'title\\': \\'Weather in San Francisco in August 2025\\', \\'url\\': \\'https://world-weather.info/forecast/usa/san_francisco/august-2025/\\', \\'content\\': \"Weather in San Francisco in August 2025 (California) - Detailed Weather Forecast for a Month\\\\n\\\\n===============\\\\n\\\\n[](\\\\n\\\\nAdd the current city\\\\n\\\\nSearch \\\\n\\\\n   Weather\\\\n   Archive\\\\n   Weather Widget\\\\n\\\\n°F\\\\n\\\\n   World\\\\n   United States\\\\n   California\\\\n   Weather in San Francisco\\\\n\\\\nWeather in San Francisco in August 2025\\\\n=======================================\\\\n\\\\nSan Francisco Weather Forecast for August 2025 is based on long term prognosis and previous years\\' statistical data. [...] 1 +64° +59° 8.1 mph SW 30 inHg 88 %06:13 am 20:18 pm\\\\n   2 +64° +57° 10.7 mph W 30.1 inHg 89 %06:14 am 20:17 pm\\\\n   3 +66° +57° 10.3 mph SW 30 inHg 87 %06:15 am 20:16 pm\\\\n   4 +66° +57° 11.6 mph W 30 inHg 80 %06:16 am 20:15 pm\\\\n   5 +66° +57° 9.6 mph W 30 inHg 85 %06:17 am 20:14 pm\\\\n   6 +73° +57° 6.7 mph SW 30 inHg 86 %06:18 am 20:13 pm\\\\n   7 +66° +59° 19 mph W 29.9 inHg 68 %06:18 am 20:11 pm\\\\n   8 +73° +57° 17.7 mph W 29.8 inHg 56 %06:19 am 20:10 pm [...] 16.6 mph W 29.9 inHg 75 %06:34 am 19:48 pm \\\\n   26 +72°\\\\n+61°\\\\n\\\\n17.2 mph W 29.9 inHg 71 %06:35 am 19:47 pm \\\\n   27 +75°\\\\n+61°\\\\n\\\\n16.6 mph W 29.8 inHg 67 %06:36 am 19:46 pm \\\\n   28 +73°\\\\n+63°\\\\n\\\\n16.6 mph W 29.8 inHg 73 %06:36 am 19:44 pm \\\\n   29 +72°\\\\n+63°\\\\n\\\\n17.2 mph W 29.9 inHg 73 %06:37 am 19:43 pm \\\\n   30 +72°\\\\n+63°\\\\n\\\\n17.7 mph W 29.8 inHg 71 %06:38 am 19:41 pm \\\\n   31 +72°\\\\n+61°\\\\n\\\\n17.4 mph W 29.8 inHg 69 %06:39 am 19:40 pm \\\\n\\\\nExtended weather forecast in San Francisco\\\\n------------------------------------------\", \\'score\\': 0.7797419}]', name='tavily_search_results_json', tool_call_id='call_nTHIEL2nBF04iBb48BA3noxX'),\n",
              "  AIMessage(content='The weather in San Francisco in August is comfortable with temperatures ranging from a low of 57°F to a high of 77°F. There is little to no rain during this month, making it ideal for exploring the city. Just remember to dress in warm layers as it can get chilly.', additional_kwargs={'refusal': None}, response_metadata={'token_usage': {'completion_tokens': 59, 'prompt_tokens': 2806, 'total_tokens': 2865, 'completion_tokens_details': {'accepted_prediction_tokens': 0, 'audio_tokens': 0, 'reasoning_tokens': 0, 'rejected_prediction_tokens': 0}, 'prompt_tokens_details': {'audio_tokens': 0, 'cached_tokens': 0}}, 'model_name': 'gpt-3.5-turbo-0125', 'system_fingerprint': None, 'id': 'chatcmpl-C6wFzsMojDMLaWgQAo6mO191tU35C', 'service_tier': 'default', 'finish_reason': 'stop', 'logprobs': None}, id='run--3fb550d6-77fc-4ccb-aa71-0c0c1bd59caa-0', usage_metadata={'input_tokens': 2806, 'output_tokens': 59, 'total_tokens': 2865, 'input_token_details': {'audio': 0, 'cache_read': 0}, 'output_token_details': {'audio': 0, 'reasoning': 0}})]}"
            ]
          },
          "metadata": {},
          "execution_count": 27
        }
      ],
      "source": [
        "result"
      ]
    },
    {
      "cell_type": "code",
      "execution_count": 30,
      "id": "6cb3ef4c-58b3-401b-b104-0d51e553d982",
      "metadata": {
        "height": 30,
        "colab": {
          "base_uri": "https://localhost:8080/",
          "height": 53
        },
        "id": "6cb3ef4c-58b3-401b-b104-0d51e553d982",
        "outputId": "75616805-7dcb-41d5-fd37-bae77289054f"
      },
      "outputs": [
        {
          "output_type": "execute_result",
          "data": {
            "text/plain": [
              "'The weather in San Francisco in August has an average temperature ranging from 57°F to 77°F with little to no rain. You can expect comfortable temperatures for exploring the city. \\n\\nIn Los Angeles in August, the weather is hot with average temperatures between 69°F and 87°F. It can be quite warm during this time.'"
            ],
            "application/vnd.google.colaboratory.intrinsic+json": {
              "type": "string"
            }
          },
          "metadata": {},
          "execution_count": 30
        }
      ],
      "source": [
        "result['messages'][-1].content"
      ]
    },
    {
      "cell_type": "code",
      "execution_count": 29,
      "id": "dc3293b7-a50c-43c8-a022-8975e1e444b8",
      "metadata": {
        "height": 47,
        "colab": {
          "base_uri": "https://localhost:8080/"
        },
        "id": "dc3293b7-a50c-43c8-a022-8975e1e444b8",
        "outputId": "9a322d7e-562e-4ea2-f3bb-835ed229b24c"
      },
      "outputs": [
        {
          "output_type": "stream",
          "name": "stdout",
          "text": [
            "Calling: {'name': 'tavily_search_results_json', 'args': {'query': 'weather in San Francisco'}, 'id': 'call_65u9HEKYexdD0JkBNCChoDez', 'type': 'tool_call'}\n",
            "Calling: {'name': 'tavily_search_results_json', 'args': {'query': 'weather in Los Angeles'}, 'id': 'call_CbN0U5fzwMFyMoYBu8OVaodN', 'type': 'tool_call'}\n",
            "Back to the model!\n"
          ]
        }
      ],
      "source": [
        "messages = [HumanMessage(content=\"What is the weather in SF and LA?\")]\n",
        "result = abot.graph.invoke({\"messages\": messages})"
      ]
    },
    {
      "cell_type": "code",
      "execution_count": 31,
      "id": "0722c3d4-4cbf-43bf-81b0-50f634c4ce61",
      "metadata": {
        "height": 30,
        "colab": {
          "base_uri": "https://localhost:8080/",
          "height": 53
        },
        "id": "0722c3d4-4cbf-43bf-81b0-50f634c4ce61",
        "outputId": "e5caaf07-9179-45c1-e1dd-44b14a6c40da"
      },
      "outputs": [
        {
          "output_type": "execute_result",
          "data": {
            "text/plain": [
              "'The weather in San Francisco in August has an average temperature ranging from 57°F to 77°F with little to no rain. You can expect comfortable temperatures for exploring the city. \\n\\nIn Los Angeles in August, the weather is hot with average temperatures between 69°F and 87°F. It can be quite warm during this time.'"
            ],
            "application/vnd.google.colaboratory.intrinsic+json": {
              "type": "string"
            }
          },
          "metadata": {},
          "execution_count": 31
        }
      ],
      "source": [
        "result['messages'][-1].content"
      ]
    },
    {
      "cell_type": "code",
      "execution_count": 32,
      "id": "6b2f82fe-3ec4-4917-be51-9fb10d1317fa",
      "metadata": {
        "height": 183,
        "colab": {
          "base_uri": "https://localhost:8080/"
        },
        "id": "6b2f82fe-3ec4-4917-be51-9fb10d1317fa",
        "outputId": "7583964b-a1dd-40ea-82bc-d24ef32e0d79"
      },
      "outputs": [
        {
          "output_type": "stream",
          "name": "stdout",
          "text": [
            "Calling: {'name': 'tavily_search_results_json', 'args': {'query': 'Super Bowl 2024 winner'}, 'id': 'call_j55vE8B7oaBEZiQHLqVyo26G', 'type': 'tool_call'}\n",
            "Calling: {'name': 'tavily_search_results_json', 'args': {'query': \"GDP of the state of Super Bowl 2024 winner's headquarters\"}, 'id': 'call_Rit7yYWeQCvQ0VFxHICKPy0P', 'type': 'tool_call'}\n",
            "Back to the model!\n",
            "Calling: {'name': 'tavily_search_results_json', 'args': {'query': 'Kansas City Chiefs headquarters location'}, 'id': 'call_TMAMXxvM0KsHTyys1oUPyt5b', 'type': 'tool_call'}\n",
            "Back to the model!\n"
          ]
        }
      ],
      "source": [
        "# Note, the query was modified to produce more consistent results.\n",
        "# Results may vary per run and over time as search information and models change.\n",
        "\n",
        "query = \"Who won the super bowl in 2024? In what state is the winning team headquarters located? \\\n",
        "What is the GDP of that state? Answer each question.\"\n",
        "messages = [HumanMessage(content=query)]\n",
        "\n",
        "model = ChatOpenAI(model=\"gpt-4o\")  # requires more advanced model\n",
        "abot = Agent(model, [tool], system=prompt)\n",
        "result = abot.graph.invoke({\"messages\": messages})"
      ]
    },
    {
      "cell_type": "code",
      "execution_count": 33,
      "id": "ee0fe1c7-77e2-499c-a2f9-1f739bb6ddf0",
      "metadata": {
        "height": 30,
        "colab": {
          "base_uri": "https://localhost:8080/"
        },
        "id": "ee0fe1c7-77e2-499c-a2f9-1f739bb6ddf0",
        "outputId": "7a1e357a-d893-4cbb-daa9-69bace10b92c"
      },
      "outputs": [
        {
          "output_type": "stream",
          "name": "stdout",
          "text": [
            "1. **Who won the Super Bowl in 2024?**\n",
            "   - The Kansas City Chiefs won the Super Bowl in 2024, defeating the San Francisco 49ers 25-22 in overtime.\n",
            "\n",
            "2. **In what state is the winning team's headquarters located?**\n",
            "   - The Kansas City Chiefs' headquarters is located in Kansas City, Missouri.\n",
            "\n",
            "3. **What is the GDP of that state?**\n",
            "   - The GDP of Missouri in 2024 was approximately $354 billion.\n"
          ]
        }
      ],
      "source": [
        "print(result['messages'][-1].content)"
      ]
    },
    {
      "cell_type": "code",
      "source": [],
      "metadata": {
        "id": "BFn5QHWNF6aZ"
      },
      "id": "BFn5QHWNF6aZ",
      "execution_count": null,
      "outputs": []
    }
  ],
  "metadata": {
    "kernelspec": {
      "display_name": "Python 3 (ipykernel)",
      "language": "python",
      "name": "python3"
    },
    "language_info": {
      "codemirror_mode": {
        "name": "ipython",
        "version": 3
      },
      "file_extension": ".py",
      "mimetype": "text/x-python",
      "name": "python",
      "nbconvert_exporter": "python",
      "pygments_lexer": "ipython3",
      "version": "3.11.9"
    },
    "colab": {
      "provenance": [],
      "include_colab_link": true
    }
  },
  "nbformat": 4,
  "nbformat_minor": 5
}