{
  "cells": [
    {
      "cell_type": "markdown",
      "metadata": {
        "id": "view-in-github",
        "colab_type": "text"
      },
      "source": [
        "<a href=\"https://colab.research.google.com/github/piyush1856/ai_agent/blob/main/_1reAct_agent.ipynb\" target=\"_parent\"><img src=\"https://colab.research.google.com/assets/colab-badge.svg\" alt=\"Open In Colab\"/></a>"
      ]
    },
    {
      "cell_type": "markdown",
      "id": "9690ac72-5d95-4cbf-875a-ae0e835593c9",
      "metadata": {
        "id": "9690ac72-5d95-4cbf-875a-ae0e835593c9"
      },
      "source": [
        "# Lesson 1: Simple ReAct Agent from Scratch"
      ]
    },
    {
      "cell_type": "code",
      "execution_count": null,
      "id": "83588e70-254f-4f83-a510-c8ae81e729b0",
      "metadata": {
        "height": 30,
        "id": "83588e70-254f-4f83-a510-c8ae81e729b0"
      },
      "outputs": [],
      "source": [
        "# based on https://til.simonwillison.net/llms/python-react-pattern"
      ]
    },
    {
      "cell_type": "code",
      "execution_count": 3,
      "id": "6cb3ef4c-58b3-401b-b104-0d51e553d982",
      "metadata": {
        "height": 149,
        "id": "6cb3ef4c-58b3-401b-b104-0d51e553d982"
      },
      "outputs": [],
      "source": [
        "import openai\n",
        "import re\n",
        "import httpx\n",
        "import os\n",
        "\n",
        "from openai import OpenAI\n",
        "from google.colab import userdata"
      ]
    },
    {
      "cell_type": "code",
      "execution_count": 10,
      "id": "dc3293b7-a50c-43c8-a022-8975e1e444b8",
      "metadata": {
        "height": 30,
        "id": "dc3293b7-a50c-43c8-a022-8975e1e444b8"
      },
      "outputs": [],
      "source": [
        "api_key = userdata.get('OPENAI_API_KEY')\n",
        "client = OpenAI(api_key=api_key)"
      ]
    },
    {
      "cell_type": "code",
      "execution_count": 11,
      "id": "0722c3d4-4cbf-43bf-81b0-50f634c4ce61",
      "metadata": {
        "height": 81,
        "id": "0722c3d4-4cbf-43bf-81b0-50f634c4ce61"
      },
      "outputs": [],
      "source": [
        "chat_completion = client.chat.completions.create(\n",
        "    model=\"gpt-3.5-turbo\",\n",
        "    messages=[{\"role\": \"user\", \"content\": \"Hello world\"}]\n",
        ")"
      ]
    },
    {
      "cell_type": "code",
      "execution_count": 12,
      "id": "6b2f82fe-3ec4-4917-be51-9fb10d1317fa",
      "metadata": {
        "height": 30,
        "colab": {
          "base_uri": "https://localhost:8080/",
          "height": 35
        },
        "id": "6b2f82fe-3ec4-4917-be51-9fb10d1317fa",
        "outputId": "f0360ed9-77de-4f59-b7ec-d238b4a9b1a6"
      },
      "outputs": [
        {
          "output_type": "execute_result",
          "data": {
            "text/plain": [
              "'Hello! How are you today?'"
            ],
            "application/vnd.google.colaboratory.intrinsic+json": {
              "type": "string"
            }
          },
          "metadata": {},
          "execution_count": 12
        }
      ],
      "source": [
        "chat_completion.choices[0].message.content"
      ]
    },
    {
      "cell_type": "code",
      "execution_count": 13,
      "id": "ee0fe1c7-77e2-499c-a2f9-1f739bb6ddf0",
      "metadata": {
        "height": 387,
        "id": "ee0fe1c7-77e2-499c-a2f9-1f739bb6ddf0"
      },
      "outputs": [],
      "source": [
        "class Agent:\n",
        "    def __init__(self, system=\"\"):\n",
        "        self.system = system\n",
        "        self.messages = []\n",
        "        if self.system:\n",
        "            self.messages.append({\"role\": \"system\", \"content\": system})\n",
        "\n",
        "    def __call__(self, message):\n",
        "        self.messages.append({\"role\": \"user\", \"content\": message})\n",
        "        result = self.execute()\n",
        "        self.messages.append({\"role\": \"assistant\", \"content\": result})\n",
        "        return result\n",
        "\n",
        "    def execute(self):\n",
        "        completion = client.chat.completions.create(\n",
        "                        model=\"gpt-4o\",\n",
        "                        temperature=0,\n",
        "                        messages=self.messages)\n",
        "        return completion.choices[0].message.content\n",
        ""
      ]
    },
    {
      "cell_type": "code",
      "execution_count": 14,
      "id": "98f303b1-a4d0-408c-8cc0-515ff980717f",
      "metadata": {
        "height": 557,
        "id": "98f303b1-a4d0-408c-8cc0-515ff980717f"
      },
      "outputs": [],
      "source": [
        "prompt = \"\"\"\n",
        "You run in a loop of Thought, Action, PAUSE, Observation.\n",
        "At the end of the loop you output an Answer\n",
        "Use Thought to describe your thoughts about the question you have been asked.\n",
        "Use Action to run one of the actions available to you - then return PAUSE.\n",
        "Observation will be the result of running those actions.\n",
        "\n",
        "Your available actions are:\n",
        "\n",
        "calculate:\n",
        "e.g. calculate: 4 * 7 / 3\n",
        "Runs a calculation and returns the number - uses Python so be sure to use floating point syntax if necessary\n",
        "\n",
        "average_dog_weight:\n",
        "e.g. average_dog_weight: Collie\n",
        "returns average weight of a dog when given the breed\n",
        "\n",
        "Example session:\n",
        "\n",
        "Question: How much does a Bulldog weigh?\n",
        "Thought: I should look the dogs weight using average_dog_weight\n",
        "Action: average_dog_weight: Bulldog\n",
        "PAUSE\n",
        "\n",
        "You will be called again with this:\n",
        "\n",
        "Observation: A Bulldog weights 51 lbs\n",
        "\n",
        "You then output:\n",
        "\n",
        "Answer: A bulldog weights 51 lbs\n",
        "\"\"\".strip()"
      ]
    },
    {
      "cell_type": "code",
      "execution_count": 15,
      "id": "bf4dcb93-6298-4cfd-b3ce-61dfac7fb35f",
      "metadata": {
        "height": 302,
        "id": "bf4dcb93-6298-4cfd-b3ce-61dfac7fb35f"
      },
      "outputs": [],
      "source": [
        "def calculate(what):\n",
        "    return eval(what)\n",
        "\n",
        "def average_dog_weight(name):\n",
        "    if name in \"Scottish Terrier\":\n",
        "        return(\"Scottish Terriers average 20 lbs\")\n",
        "    elif name in \"Border Collie\":\n",
        "        return(\"a Border Collies average weight is 37 lbs\")\n",
        "    elif name in \"Toy Poodle\":\n",
        "        return(\"a toy poodles average weight is 7 lbs\")\n",
        "    else:\n",
        "        return(\"An average dog weights 50 lbs\")\n",
        "\n",
        "known_actions = {\n",
        "    \"calculate\": calculate,\n",
        "    \"average_dog_weight\": average_dog_weight\n",
        "}"
      ]
    },
    {
      "cell_type": "code",
      "execution_count": 16,
      "id": "932883a4-c722-42bb-aec0-b4f41c5c81a4",
      "metadata": {
        "height": 30,
        "id": "932883a4-c722-42bb-aec0-b4f41c5c81a4"
      },
      "outputs": [],
      "source": [
        "abot = Agent(prompt)"
      ]
    },
    {
      "cell_type": "code",
      "execution_count": 17,
      "id": "ff362f49-dcf1-4ea1-a86c-e516e9ab897d",
      "metadata": {
        "height": 47,
        "colab": {
          "base_uri": "https://localhost:8080/"
        },
        "id": "ff362f49-dcf1-4ea1-a86c-e516e9ab897d",
        "outputId": "dea1cb43-6682-4333-d84a-1a8e841dea24"
      },
      "outputs": [
        {
          "output_type": "stream",
          "name": "stdout",
          "text": [
            "Thought: I should look up the average weight of a Toy Poodle using the average_dog_weight action.\n",
            "Action: average_dog_weight: Toy Poodle\n",
            "PAUSE\n"
          ]
        }
      ],
      "source": [
        "result = abot(\"How much does a toy poodle weigh?\")\n",
        "print(result)"
      ]
    },
    {
      "cell_type": "code",
      "execution_count": 18,
      "id": "a7e15a20-83d7-434c-8551-bce8dcc32be0",
      "metadata": {
        "height": 30,
        "id": "a7e15a20-83d7-434c-8551-bce8dcc32be0"
      },
      "outputs": [],
      "source": [
        "result = average_dog_weight(\"Toy Poodle\")"
      ]
    },
    {
      "cell_type": "code",
      "execution_count": 19,
      "id": "54ab2c74-f32e-490c-a85d-932d11444210",
      "metadata": {
        "height": 30,
        "colab": {
          "base_uri": "https://localhost:8080/",
          "height": 35
        },
        "id": "54ab2c74-f32e-490c-a85d-932d11444210",
        "outputId": "65cb026b-107a-4e65-f507-9a2e2e71ef98"
      },
      "outputs": [
        {
          "output_type": "execute_result",
          "data": {
            "text/plain": [
              "'a toy poodles average weight is 7 lbs'"
            ],
            "application/vnd.google.colaboratory.intrinsic+json": {
              "type": "string"
            }
          },
          "metadata": {},
          "execution_count": 19
        }
      ],
      "source": [
        "result"
      ]
    },
    {
      "cell_type": "code",
      "execution_count": 20,
      "id": "a833d3ce-bd31-4319-811d-decff226b970",
      "metadata": {
        "height": 30,
        "id": "a833d3ce-bd31-4319-811d-decff226b970"
      },
      "outputs": [],
      "source": [
        "next_prompt = \"Observation: {}\".format(result)"
      ]
    },
    {
      "cell_type": "code",
      "source": [
        "next_prompt"
      ],
      "metadata": {
        "colab": {
          "base_uri": "https://localhost:8080/",
          "height": 35
        },
        "id": "JNFBpEG5k3MR",
        "outputId": "49030077-c574-485c-a599-7e5d404e4597"
      },
      "id": "JNFBpEG5k3MR",
      "execution_count": 21,
      "outputs": [
        {
          "output_type": "execute_result",
          "data": {
            "text/plain": [
              "'Observation: a toy poodles average weight is 7 lbs'"
            ],
            "application/vnd.google.colaboratory.intrinsic+json": {
              "type": "string"
            }
          },
          "metadata": {},
          "execution_count": 21
        }
      ]
    },
    {
      "cell_type": "code",
      "execution_count": 22,
      "id": "76e93cce-6eab-4c7c-ac64-e9993fdb30d6",
      "metadata": {
        "height": 30,
        "colab": {
          "base_uri": "https://localhost:8080/",
          "height": 35
        },
        "id": "76e93cce-6eab-4c7c-ac64-e9993fdb30d6",
        "outputId": "72b42497-c00b-4036-861d-cabe86dd1374"
      },
      "outputs": [
        {
          "output_type": "execute_result",
          "data": {
            "text/plain": [
              "'Answer: A Toy Poodle weighs an average of 7 lbs.'"
            ],
            "application/vnd.google.colaboratory.intrinsic+json": {
              "type": "string"
            }
          },
          "metadata": {},
          "execution_count": 22
        }
      ],
      "source": [
        "abot(next_prompt)"
      ]
    },
    {
      "cell_type": "code",
      "execution_count": 23,
      "id": "fd2d0990-a932-423f-9ff3-5cada58c5f32",
      "metadata": {
        "height": 30,
        "colab": {
          "base_uri": "https://localhost:8080/"
        },
        "id": "fd2d0990-a932-423f-9ff3-5cada58c5f32",
        "outputId": "21e23ba1-a706-42ef-90ce-6cf4ad350d16"
      },
      "outputs": [
        {
          "output_type": "execute_result",
          "data": {
            "text/plain": [
              "[{'role': 'system',\n",
              "  'content': 'You run in a loop of Thought, Action, PAUSE, Observation.\\nAt the end of the loop you output an Answer\\nUse Thought to describe your thoughts about the question you have been asked.\\nUse Action to run one of the actions available to you - then return PAUSE.\\nObservation will be the result of running those actions.\\n\\nYour available actions are:\\n\\ncalculate:\\ne.g. calculate: 4 * 7 / 3\\nRuns a calculation and returns the number - uses Python so be sure to use floating point syntax if necessary\\n\\naverage_dog_weight:\\ne.g. average_dog_weight: Collie\\nreturns average weight of a dog when given the breed\\n\\nExample session:\\n\\nQuestion: How much does a Bulldog weigh?\\nThought: I should look the dogs weight using average_dog_weight\\nAction: average_dog_weight: Bulldog\\nPAUSE\\n\\nYou will be called again with this:\\n\\nObservation: A Bulldog weights 51 lbs\\n\\nYou then output:\\n\\nAnswer: A bulldog weights 51 lbs'},\n",
              " {'role': 'user', 'content': 'How much does a toy poodle weigh?'},\n",
              " {'role': 'assistant',\n",
              "  'content': 'Thought: I should look up the average weight of a Toy Poodle using the average_dog_weight action.\\nAction: average_dog_weight: Toy Poodle\\nPAUSE'},\n",
              " {'role': 'user',\n",
              "  'content': 'Observation: a toy poodles average weight is 7 lbs'},\n",
              " {'role': 'assistant',\n",
              "  'content': 'Answer: A Toy Poodle weighs an average of 7 lbs.'}]"
            ]
          },
          "metadata": {},
          "execution_count": 23
        }
      ],
      "source": [
        "abot.messages"
      ]
    },
    {
      "cell_type": "code",
      "execution_count": 24,
      "id": "27cde654-64e2-48bc-80a9-0ed668ccb7dc",
      "metadata": {
        "height": 30,
        "id": "27cde654-64e2-48bc-80a9-0ed668ccb7dc"
      },
      "outputs": [],
      "source": [
        "abot = Agent(prompt)"
      ]
    },
    {
      "cell_type": "code",
      "execution_count": 25,
      "id": "4871f644-b131-4065-b7ce-b82c20a41f11",
      "metadata": {
        "height": 64,
        "colab": {
          "base_uri": "https://localhost:8080/",
          "height": 53
        },
        "id": "4871f644-b131-4065-b7ce-b82c20a41f11",
        "outputId": "ebfff361-0dcd-4572-976c-de615510796f"
      },
      "outputs": [
        {
          "output_type": "execute_result",
          "data": {
            "text/plain": [
              "'Thought: I need to find the average weight of both a Border Collie and a Scottish Terrier, then add them together to get the combined weight.\\nAction: average_dog_weight: Border Collie\\nPAUSE'"
            ],
            "application/vnd.google.colaboratory.intrinsic+json": {
              "type": "string"
            }
          },
          "metadata": {},
          "execution_count": 25
        }
      ],
      "source": [
        "question = \"\"\"I have 2 dogs, a border collie and a scottish terrier. \\\n",
        "What is their combined weight\"\"\"\n",
        "abot(question)"
      ]
    },
    {
      "cell_type": "code",
      "execution_count": 26,
      "id": "8c3d8070-3f36-4cf0-a677-508e54359c8f",
      "metadata": {
        "height": 47,
        "colab": {
          "base_uri": "https://localhost:8080/"
        },
        "id": "8c3d8070-3f36-4cf0-a677-508e54359c8f",
        "outputId": "57e864f8-0dfd-43eb-92a5-3d2c2316c449"
      },
      "outputs": [
        {
          "output_type": "stream",
          "name": "stdout",
          "text": [
            "Observation: a Border Collies average weight is 37 lbs\n"
          ]
        }
      ],
      "source": [
        "next_prompt = \"Observation: {}\".format(average_dog_weight(\"Border Collie\"))\n",
        "print(next_prompt)"
      ]
    },
    {
      "cell_type": "code",
      "execution_count": 27,
      "id": "98f3be1d-cc4c-41fa-9863-3e386e88e305",
      "metadata": {
        "height": 30,
        "colab": {
          "base_uri": "https://localhost:8080/",
          "height": 35
        },
        "id": "98f3be1d-cc4c-41fa-9863-3e386e88e305",
        "outputId": "95249d84-8c21-4d20-b8d7-5c61db3c7c1c"
      },
      "outputs": [
        {
          "output_type": "execute_result",
          "data": {
            "text/plain": [
              "'Action: average_dog_weight: Scottish Terrier\\nPAUSE'"
            ],
            "application/vnd.google.colaboratory.intrinsic+json": {
              "type": "string"
            }
          },
          "metadata": {},
          "execution_count": 27
        }
      ],
      "source": [
        "abot(next_prompt)"
      ]
    },
    {
      "cell_type": "code",
      "execution_count": 28,
      "id": "0ad8a6cc-65d4-4ce7-87aa-4e67d7c23d7b",
      "metadata": {
        "height": 47,
        "colab": {
          "base_uri": "https://localhost:8080/"
        },
        "id": "0ad8a6cc-65d4-4ce7-87aa-4e67d7c23d7b",
        "outputId": "e1b0bfcf-6117-4725-d262-8318e3588ebd"
      },
      "outputs": [
        {
          "output_type": "stream",
          "name": "stdout",
          "text": [
            "Observation: Scottish Terriers average 20 lbs\n"
          ]
        }
      ],
      "source": [
        "next_prompt = \"Observation: {}\".format(average_dog_weight(\"Scottish Terrier\"))\n",
        "print(next_prompt)"
      ]
    },
    {
      "cell_type": "code",
      "execution_count": 29,
      "id": "592b5e62-a203-433c-92a0-3783f490cde1",
      "metadata": {
        "height": 30,
        "colab": {
          "base_uri": "https://localhost:8080/",
          "height": 53
        },
        "id": "592b5e62-a203-433c-92a0-3783f490cde1",
        "outputId": "20de8812-dc3d-4e00-8461-ceaf5f184f3f"
      },
      "outputs": [
        {
          "output_type": "execute_result",
          "data": {
            "text/plain": [
              "'Thought: Now that I have the average weights of both the Border Collie and the Scottish Terrier, I can calculate their combined weight by adding these two values together.\\nAction: calculate: 37 + 20\\nPAUSE'"
            ],
            "application/vnd.google.colaboratory.intrinsic+json": {
              "type": "string"
            }
          },
          "metadata": {},
          "execution_count": 29
        }
      ],
      "source": [
        "abot(next_prompt)"
      ]
    },
    {
      "cell_type": "code",
      "execution_count": 30,
      "id": "14fa923c-7e4f-42d1-965f-0f8ccd50fbd7",
      "metadata": {
        "height": 47,
        "colab": {
          "base_uri": "https://localhost:8080/"
        },
        "id": "14fa923c-7e4f-42d1-965f-0f8ccd50fbd7",
        "outputId": "9629dc06-30cf-46b1-f8eb-016ef7882655"
      },
      "outputs": [
        {
          "output_type": "stream",
          "name": "stdout",
          "text": [
            "Observation: 57\n"
          ]
        }
      ],
      "source": [
        "next_prompt = \"Observation: {}\".format(eval(\"37 + 20\"))\n",
        "print(next_prompt)"
      ]
    },
    {
      "cell_type": "code",
      "execution_count": 31,
      "id": "570c6245-2837-4ac5-983b-95f61f3ac10d",
      "metadata": {
        "height": 30,
        "colab": {
          "base_uri": "https://localhost:8080/",
          "height": 35
        },
        "id": "570c6245-2837-4ac5-983b-95f61f3ac10d",
        "outputId": "6ac97a70-e4b4-4ad0-e9ef-3ada9ceeeb20"
      },
      "outputs": [
        {
          "output_type": "execute_result",
          "data": {
            "text/plain": [
              "'Answer: The combined average weight of a Border Collie and a Scottish Terrier is 57 lbs.'"
            ],
            "application/vnd.google.colaboratory.intrinsic+json": {
              "type": "string"
            }
          },
          "metadata": {},
          "execution_count": 31
        }
      ],
      "source": [
        "abot(next_prompt)"
      ]
    },
    {
      "cell_type": "code",
      "source": [
        "abot.messages"
      ],
      "metadata": {
        "colab": {
          "base_uri": "https://localhost:8080/"
        },
        "id": "fjX25GMRl7AR",
        "outputId": "3e51b679-4b51-414a-d367-536134bd603b"
      },
      "id": "fjX25GMRl7AR",
      "execution_count": 33,
      "outputs": [
        {
          "output_type": "execute_result",
          "data": {
            "text/plain": [
              "[{'role': 'system',\n",
              "  'content': 'You run in a loop of Thought, Action, PAUSE, Observation.\\nAt the end of the loop you output an Answer\\nUse Thought to describe your thoughts about the question you have been asked.\\nUse Action to run one of the actions available to you - then return PAUSE.\\nObservation will be the result of running those actions.\\n\\nYour available actions are:\\n\\ncalculate:\\ne.g. calculate: 4 * 7 / 3\\nRuns a calculation and returns the number - uses Python so be sure to use floating point syntax if necessary\\n\\naverage_dog_weight:\\ne.g. average_dog_weight: Collie\\nreturns average weight of a dog when given the breed\\n\\nExample session:\\n\\nQuestion: How much does a Bulldog weigh?\\nThought: I should look the dogs weight using average_dog_weight\\nAction: average_dog_weight: Bulldog\\nPAUSE\\n\\nYou will be called again with this:\\n\\nObservation: A Bulldog weights 51 lbs\\n\\nYou then output:\\n\\nAnswer: A bulldog weights 51 lbs'},\n",
              " {'role': 'user',\n",
              "  'content': 'I have 2 dogs, a border collie and a scottish terrier. What is their combined weight'},\n",
              " {'role': 'assistant',\n",
              "  'content': 'Thought: I need to find the average weight of both a Border Collie and a Scottish Terrier, then add them together to get the combined weight.\\nAction: average_dog_weight: Border Collie\\nPAUSE'},\n",
              " {'role': 'user',\n",
              "  'content': 'Observation: a Border Collies average weight is 37 lbs'},\n",
              " {'role': 'assistant',\n",
              "  'content': 'Action: average_dog_weight: Scottish Terrier\\nPAUSE'},\n",
              " {'role': 'user', 'content': 'Observation: Scottish Terriers average 20 lbs'},\n",
              " {'role': 'assistant',\n",
              "  'content': 'Thought: Now that I have the average weights of both the Border Collie and the Scottish Terrier, I can calculate their combined weight by adding these two values together.\\nAction: calculate: 37 + 20\\nPAUSE'},\n",
              " {'role': 'user', 'content': 'Observation: 57'},\n",
              " {'role': 'assistant',\n",
              "  'content': 'Answer: The combined average weight of a Border Collie and a Scottish Terrier is 57 lbs.'}]"
            ]
          },
          "metadata": {},
          "execution_count": 33
        }
      ]
    },
    {
      "cell_type": "markdown",
      "id": "6b46f2ac-f717-4ab9-b548-f34b74071d76",
      "metadata": {
        "id": "6b46f2ac-f717-4ab9-b548-f34b74071d76"
      },
      "source": [
        "### Add loop"
      ]
    },
    {
      "cell_type": "code",
      "execution_count": 34,
      "id": "6b910915-b087-4d35-afff-0ec30a5852f1",
      "metadata": {
        "height": 30,
        "colab": {
          "base_uri": "https://localhost:8080/"
        },
        "id": "6b910915-b087-4d35-afff-0ec30a5852f1",
        "outputId": "6595c2e1-0441-434b-bae7-e94e97c13e64"
      },
      "outputs": [
        {
          "output_type": "stream",
          "name": "stderr",
          "text": [
            "<>:1: SyntaxWarning: invalid escape sequence '\\w'\n",
            "<>:1: SyntaxWarning: invalid escape sequence '\\w'\n",
            "/tmp/ipython-input-2389047760.py:1: SyntaxWarning: invalid escape sequence '\\w'\n",
            "  action_re = re.compile('^Action: (\\w+): (.*)$')   # python regular expression to selection action\n"
          ]
        }
      ],
      "source": [
        "action_re = re.compile('^Action: (\\w+): (.*)$')   # python regular expression to selection action"
      ]
    },
    {
      "cell_type": "code",
      "execution_count": 35,
      "id": "c4feb6cc-5129-4a99-bb45-851bc07b5709",
      "metadata": {
        "height": 421,
        "id": "c4feb6cc-5129-4a99-bb45-851bc07b5709"
      },
      "outputs": [],
      "source": [
        "def query(question, max_turns=5):\n",
        "    i = 0\n",
        "    bot = Agent(prompt)\n",
        "    next_prompt = question\n",
        "    while i < max_turns:\n",
        "        i += 1\n",
        "        result = bot(next_prompt)\n",
        "        print(result)\n",
        "        actions = [\n",
        "            action_re.match(a)\n",
        "            for a in result.split('\\n')\n",
        "            if action_re.match(a)\n",
        "        ]\n",
        "        if actions:\n",
        "            # There is an action to run\n",
        "            action, action_input = actions[0].groups()\n",
        "            if action not in known_actions:\n",
        "                raise Exception(\"Unknown action: {}: {}\".format(action, action_input))\n",
        "            print(\" -- running {} {}\".format(action, action_input))\n",
        "            observation = known_actions[action](action_input)\n",
        "            print(\"Observation:\", observation)\n",
        "            next_prompt = \"Observation: {}\".format(observation)\n",
        "        else:\n",
        "            return"
      ]
    },
    {
      "cell_type": "code",
      "execution_count": 36,
      "id": "e85a02b4-96cc-4b01-8792-397a774eb499",
      "metadata": {
        "height": 64,
        "colab": {
          "base_uri": "https://localhost:8080/"
        },
        "id": "e85a02b4-96cc-4b01-8792-397a774eb499",
        "outputId": "165ad012-f4db-4ae0-bc1f-01c0c68e4c48"
      },
      "outputs": [
        {
          "output_type": "stream",
          "name": "stdout",
          "text": [
            "Thought: I need to find the average weight of both a Border Collie and a Scottish Terrier, then add them together to find the combined weight.\n",
            "Action: average_dog_weight: Border Collie\n",
            "PAUSE\n",
            " -- running average_dog_weight Border Collie\n",
            "Observation: a Border Collies average weight is 37 lbs\n",
            "Action: average_dog_weight: Scottish Terrier\n",
            "PAUSE\n",
            " -- running average_dog_weight Scottish Terrier\n",
            "Observation: Scottish Terriers average 20 lbs\n",
            "Thought: Now that I have the average weights of both the Border Collie and the Scottish Terrier, I can calculate their combined weight.\n",
            "Action: calculate: 37 + 20\n",
            "PAUSE\n",
            " -- running calculate 37 + 20\n",
            "Observation: 57\n",
            "Answer: The combined average weight of a Border Collie and a Scottish Terrier is 57 lbs.\n"
          ]
        }
      ],
      "source": [
        "question = \"\"\"I have 2 dogs, a border collie and a scottish terrier. \\\n",
        "What is their combined weight\"\"\"\n",
        "query(question)"
      ]
    },
    {
      "cell_type": "code",
      "execution_count": null,
      "id": "ae8b86a6-5e20-4252-b1d8-009b8318345a",
      "metadata": {
        "height": 30,
        "id": "ae8b86a6-5e20-4252-b1d8-009b8318345a"
      },
      "outputs": [],
      "source": []
    },
    {
      "cell_type": "code",
      "execution_count": null,
      "id": "af925917-b746-48c9-ac74-62fefbe5246c",
      "metadata": {
        "height": 30,
        "id": "af925917-b746-48c9-ac74-62fefbe5246c"
      },
      "outputs": [],
      "source": []
    }
  ],
  "metadata": {
    "kernelspec": {
      "display_name": "Python 3 (ipykernel)",
      "language": "python",
      "name": "python3"
    },
    "language_info": {
      "codemirror_mode": {
        "name": "ipython",
        "version": 3
      },
      "file_extension": ".py",
      "mimetype": "text/x-python",
      "name": "python",
      "nbconvert_exporter": "python",
      "pygments_lexer": "ipython3",
      "version": "3.11.9"
    },
    "colab": {
      "provenance": [],
      "include_colab_link": true
    }
  },
  "nbformat": 4,
  "nbformat_minor": 5
}